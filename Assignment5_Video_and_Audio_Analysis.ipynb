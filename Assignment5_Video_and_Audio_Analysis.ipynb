{
  "nbformat": 4,
  "nbformat_minor": 0,
  "metadata": {
    "colab": {
      "provenance": []
    },
    "kernelspec": {
      "name": "python3",
      "display_name": "Python 3"
    },
    "language_info": {
      "name": "python"
    }
  },
  "cells": [
    {
      "cell_type": "code",
      "source": [
        "!pip install --upgrade --quiet google.genai\n"
      ],
      "metadata": {
        "id": "D0REVMlThO0i"
      },
      "execution_count": 1,
      "outputs": []
    },
    {
      "cell_type": "code",
      "source": [
        "!pip install gTTS --quiet\n"
      ],
      "metadata": {
        "id": "gzJTNpHxhQLI"
      },
      "execution_count": 2,
      "outputs": []
    },
    {
      "cell_type": "code",
      "source": [
        "!pip install playsound\n"
      ],
      "metadata": {
        "colab": {
          "base_uri": "https://localhost:8080/"
        },
        "collapsed": true,
        "id": "BZWv64BEhU3G",
        "outputId": "3eac9cb2-25b9-4904-cc41-3818bfc7c2e4"
      },
      "execution_count": 3,
      "outputs": [
        {
          "output_type": "stream",
          "name": "stdout",
          "text": [
            "Collecting playsound\n",
            "  Downloading playsound-1.3.0.tar.gz (7.7 kB)\n",
            "  Preparing metadata (setup.py) ... \u001b[?25l\u001b[?25hdone\n",
            "Building wheels for collected packages: playsound\n",
            "  Building wheel for playsound (setup.py) ... \u001b[?25l\u001b[?25hdone\n",
            "  Created wheel for playsound: filename=playsound-1.3.0-py3-none-any.whl size=7020 sha256=6cb6bd25226a865e78815ac6bf19335881752f880f1bcfe04e3a5f52cc0ae8c3\n",
            "  Stored in directory: /root/.cache/pip/wheels/90/89/ed/2d643f4226fc8c7c9156fc28abd8051e2d2c0de37ae51ac45c\n",
            "Successfully built playsound\n",
            "Installing collected packages: playsound\n",
            "Successfully installed playsound-1.3.0\n"
          ]
        }
      ]
    },
    {
      "cell_type": "code",
      "source": [
        "import google.generativeai as genai\n"
      ],
      "metadata": {
        "id": "QccLsaSmhX4z"
      },
      "execution_count": 4,
      "outputs": []
    },
    {
      "cell_type": "code",
      "source": [
        "from google.colab import userdata\n",
        "GEMINI_API_KEY = userdata.get(\"AGENTIC_AI_KEY\")\n",
        "if(GEMINI_API_KEY):\n",
        "  print(\"API Key found\")\n",
        "else:\n",
        "  print(\"API Key not found\")\n"
      ],
      "metadata": {
        "colab": {
          "base_uri": "https://localhost:8080/"
        },
        "id": "7KFI4Ilghb-2",
        "outputId": "43794273-408c-4a85-928b-3c86776ee5e6"
      },
      "execution_count": 5,
      "outputs": [
        {
          "output_type": "stream",
          "name": "stdout",
          "text": [
            "API Key found\n"
          ]
        }
      ]
    },
    {
      "cell_type": "code",
      "source": [
        "from google import genai\n",
        "from google.genai import Client\n",
        "\n",
        "client: Client = genai.Client(\n",
        "    api_key=GEMINI_API_KEY,\n",
        ")\n",
        "\n",
        "model =\"gemini-2.0-flash-exp\"\n"
      ],
      "metadata": {
        "id": "kQCaL0cowSrY"
      },
      "execution_count": 6,
      "outputs": []
    },
    {
      "cell_type": "code",
      "source": [
        "video_file_name = \"/content/Introduction_video.mp4\"\n"
      ],
      "metadata": {
        "id": "Dt8qPFL0wqyI"
      },
      "execution_count": 7,
      "outputs": []
    },
    {
      "cell_type": "code",
      "source": [
        "import time\n",
        "\n",
        "def upload_video(video_file_name):\n",
        "  video_file = client.files.upload(path=video_file_name)\n",
        "  while video_file.state == \"PROCESSING\":\n",
        "      print('Waiting for video to be processed.')\n",
        "      time.sleep(10)\n",
        "      video_file = client.files.get(name=video_file.name or \"\")\n",
        "\n",
        "  if video_file.state == \"FAILED\":\n",
        "    raise ValueError(video_file.state)\n",
        "  print(f'Video processing complete: ' + (video_file.uri or \"\"))\n",
        "\n",
        "  return video_file\n",
        "\n",
        "my_video = upload_video(video_file_name)\n",
        ""
      ],
      "metadata": {
        "colab": {
          "base_uri": "https://localhost:8080/"
        },
        "id": "QESpTL1WxAe5",
        "outputId": "b63749bd-6f01-4fef-ece7-2a8fdcd8babe"
      },
      "execution_count": 9,
      "outputs": [
        {
          "output_type": "stream",
          "name": "stdout",
          "text": [
            "Waiting for video to be processed.\n",
            "Video processing complete: https://generativelanguage.googleapis.com/v1beta/files/pk6ris57e5fv\n"
          ]
        }
      ]
    },
    {
      "cell_type": "code",
      "source": [
        "from google.genai.types import Content, Part\n",
        "prompt = \"\"\"For each scene in this video,\n",
        "            generate captions describe the scene along with any spoken text placed in quotation marks.\n",
        "            Place each caption into an object with the timecode of the caption in the video in English, once done then describe the setting of the video and also whatever is said in the video translate it into Spanish.\n",
        "         \"\"\"\n",
        "\n",
        "video = my_video\n",
        "\n",
        "response = client.models.generate_content(\n",
        "    model=model,\n",
        "    contents=[\n",
        "        Content(\n",
        "            role=\"user\",\n",
        "            parts=[\n",
        "                Part.from_uri(\n",
        "                    file_uri=video.uri or \"\",\n",
        "                    mime_type=video.mime_type or \"\"),\n",
        "                ]),\n",
        "        prompt,\n",
        "    ]\n",
        ")\n",
        "print(response.text)\n"
      ],
      "metadata": {
        "colab": {
          "base_uri": "https://localhost:8080/"
        },
        "id": "DLFB-yL0xHV9",
        "outputId": "45b01d36-2886-4858-a839-547a9a0cae10"
      },
      "execution_count": 12,
      "outputs": [
        {
          "output_type": "stream",
          "name": "stdout",
          "text": [
            "```json\n",
            "[\n",
            "  {\n",
            "    \"timecode\": \"0:00\",\n",
            "    \"caption\": \"A woman with dark, shoulder-length hair and a pink sweater speaks directly to the camera. She is in a room with a white wall, dark curtains, a small potted plant, a bed with a patterned blanket, and a white chair in the background. She says, \\\"Hi, my name is Nadia and I'm a PIIC student. It's my first time learning uh technology, but I'm really loving it. I am passionate about um tech field. Though I thought it something that that might be difficult, but I'm enjoying it so far. So thank you very much PIIC team for your help and support, and I think this is going to be a turning point in my life learning and uh...\\\"\"\n",
            "  }\n",
            "]\n",
            "```\n",
            "\n",
            "**Setting Description:**\n",
            "\n",
            "The video appears to be filmed in a casual home setting. The background includes a bedroom with a bed, a chair and dark curtains. There is also a small houseplant visible. The walls are light-colored.\n",
            "\n",
            "**Spanish Translation:**\n",
            "\n",
            "\"Hola, mi nombre es Nadia y soy estudiante de PIIC. Es la primera vez que aprendo tecnología, pero realmente me encanta. Me apasiona el campo de la tecnología. Aunque pensé que era algo que podría ser difícil, pero lo estoy disfrutando hasta ahora. Así que muchas gracias equipo de PIIC por su ayuda y apoyo, y creo que esto va a ser un punto de inflexión en mi vida aprendiendo y uh...\"\n",
            "\n"
          ]
        }
      ]
    },
    {
      "cell_type": "code",
      "source": [],
      "metadata": {
        "id": "Vs6ZLULaxVMF"
      },
      "execution_count": null,
      "outputs": []
    }
  ]
}